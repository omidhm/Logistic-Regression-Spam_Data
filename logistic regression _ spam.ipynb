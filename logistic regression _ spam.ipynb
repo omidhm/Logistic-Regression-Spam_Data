{
 "cells": [
  {
   "cell_type": "code",
   "execution_count": 1,
   "metadata": {},
   "outputs": [],
   "source": [
    "import pandas as pd\n",
    "from nltk.stem import WordNetLemmatizer\n",
    "from nltk.corpus import stopwords\n",
    "from nltk import pos_tag, word_tokenize\n",
    "from sklearn.model_selection import train_test_split\n",
    "from sklearn.feature_extraction.text import TfidfVectorizer\n",
    "from sklearn import svm\n",
    "from sklearn.metrics import confusion_matrix\n",
    "from sklearn.feature_extraction.text import CountVectorizer\n",
    "import numpy as np\n",
    "import matplotlib.pyplot as plt\n",
    "import matplotlib.patches as mpatches\n",
    "import matplotlib.lines as mlines\n",
    "import random\n",
    "import sys\n",
    "np.set_printoptions(threshold=sys.maxsize)"
   ]
  },
  {
   "cell_type": "code",
   "execution_count": 2,
   "metadata": {},
   "outputs": [],
   "source": [
    "data = pd.read_csv(\"spam.csv\", encoding = \"latin-1\")\n",
    "data = data[['v1', 'v2']]\n",
    "data = data.rename(columns = {'v1': 'label', 'v2': 'text'})\n",
    "\n",
    "lemmatizer = WordNetLemmatizer()\n",
    "stopwords = set(stopwords.words('english'))"
   ]
  },
  {
   "cell_type": "code",
   "execution_count": 3,
   "metadata": {},
   "outputs": [],
   "source": [
    "def review_messages(msg):\n",
    "    # converting messages to lowercase\n",
    "    msg = msg.lower()\n",
    "    return msg"
   ]
  },
  {
   "cell_type": "code",
   "execution_count": 4,
   "metadata": {},
   "outputs": [],
   "source": [
    "# Processing text messages\n",
    "data['text'] = data['text'].apply(review_messages)\n",
    "\n",
    "########$\n",
    "## X_train, X_test, y_train, y_test = train_test_split(data['text'], data['label'], test_size = 0.1, random_state = 1)\n",
    "vectorizer1 = TfidfVectorizer()\n",
    "vectorizer2 = TfidfVectorizer()\n",
    "dataX = vectorizer1.fit_transform(data['text'])\n",
    "dataY = vectorizer2.fit_transform(data['label'])\n",
    "X_train, X_test, y_train, y_test = train_test_split(dataX, dataY[:,0], test_size = 0.1, random_state = 1)\n",
    "\n",
    "X_train = np.matrix(X_train.toarray())\n",
    "X_test = np.matrix(X_test.toarray())\n",
    "y_train = np.matrix(y_train.toarray())\n",
    "y_test = np.matrix(y_test.toarray())"
   ]
  },
  {
   "cell_type": "code",
   "execution_count": 5,
   "metadata": {},
   "outputs": [],
   "source": [
    "def Output(x):\n",
    "#     Yn = np.where(x<.5,0,x)\n",
    "#     Yn = np.where(Yn>=.5,1,Yn)\n",
    "    Yn = x\n",
    "    return Yn"
   ]
  },
  {
   "cell_type": "code",
   "execution_count": 6,
   "metadata": {},
   "outputs": [],
   "source": [
    "def Structt(Lh, Input_data):\n",
    "    Bias = np.matrix([1 for i in range(np.size(Input_data[:,0]))])\n",
    "    XX = np.vstack((Bias, Input_data.T)).T\n",
    "    W = []\n",
    "    for i in range(np.size(Lh)):\n",
    "        if i == 0:\n",
    "            W.append(np.matrix(np.random.normal(0, 1, Lh[i] * (XX[0].size))).reshape(Lh[i], XX[0].size))\n",
    "        else:\n",
    "            W.append(np.matrix(np.random.normal(0, 1, Lh[i] * (Lh[i-1] + 1 ))).reshape(Lh[i], Lh[i-1] + 1))\n",
    "    return W"
   ]
  },
  {
   "cell_type": "code",
   "execution_count": 7,
   "metadata": {},
   "outputs": [],
   "source": [
    "def parameters(Krum,Avg):\n",
    "    temps = np.zeros((100000,1))\n",
    "    Avg = Avg\n",
    "    Krum = Krum\n",
    "    \n",
    "    MB = 3\n",
    "    \n",
    "    #initializition:\n",
    "#     η1 = .05\n",
    "#     η2 = .005  \n",
    "#     η3 = .005\n",
    "    \n",
    "    η1 = .005\n",
    "    η2 = .0005  \n",
    "    η3 = .0005\n",
    "    return MB, Krum, Avg, η1, η2, η3, temps"
   ]
  },
  {
   "cell_type": "code",
   "execution_count": 8,
   "metadata": {},
   "outputs": [],
   "source": [
    "def Activation(x):\n",
    "    return 1 / (1 + np.exp(-x))\n",
    "\n",
    "def Activation_dev(x):\n",
    "    return np.exp(-x)/np.power((1+np.exp(-x)),2)"
   ]
  },
  {
   "cell_type": "code",
   "execution_count": 9,
   "metadata": {},
   "outputs": [],
   "source": [
    "def FP(W, Input_data):\n",
    "    V = []  \n",
    "    Y = []\n",
    "    W = W\n",
    "    Bias = np.matrix([1 for i in range(np.size(Input_data[:,0]))])\n",
    "    XX = np.vstack((Bias, Input_data.T)).T\n",
    "    for i in range(np.size(W)):\n",
    "        if i == 0:\n",
    "            V.append(np.matmul(W[i], XX.T))\n",
    "        else:\n",
    "            V.append(np.matmul(W[i], Y[i-1]))\n",
    "        if i < np.size(W) - 1:\n",
    "            Temp = Activation(V[i])\n",
    "            Bias = np.matrix([1 for j in range(np.size(Temp[0,:]))])\n",
    "            Y.append(np.vstack((Bias, Temp)))\n",
    "        else:\n",
    "            Y.append(Activation(V[i]))\n",
    "        \n",
    "    return V, Y"
   ]
  },
  {
   "cell_type": "code",
   "execution_count": 10,
   "metadata": {},
   "outputs": [],
   "source": [
    "def BP(W, V, Y, Actual_output, Input_data):\n",
    "    G = []\n",
    "    W = WW\n",
    "    j = np.size(W) - 1\n",
    "    Bias = np.matrix([1 for i in range(np.size(Input_data[:,0]))])\n",
    "    XX = np.vstack((Bias, Input_data.T)).T\n",
    "    \n",
    "    for i in range(np.size(W)):\n",
    "        if i == 0:\n",
    "            DEL = np.multiply(np.subtract(Actual_output, Y[j].T), Activation_dev(V[j]).T)\n",
    "            G.append(np.matmul(Y[j-1], DEL))\n",
    "        else:\n",
    "            if i < np.size(W) - 1:\n",
    "                DEL = np.multiply(np.matmul(DEL, np.delete(W[j],0,1)).T, Activation_dev(V[j-1]))\n",
    "                G.append(np.matmul(Y[j-2], DEL.T))\n",
    "                j -= 1\n",
    "                DEL = DEL.T\n",
    "            else:\n",
    "                DEL = np.multiply(np.matmul(DEL, np.delete(W[j],0,1)).T, Activation_dev(V[j-1]))\n",
    "#                 DEL = np.multiply(np.matmul(DEL, np.delete(W[j],0,1)).T, 1)\n",
    "                G.append(np.matmul(XX.T, DEL.T))\n",
    "    G.reverse()\n",
    "    return G"
   ]
  },
  {
   "cell_type": "code",
   "execution_count": 11,
   "metadata": {},
   "outputs": [],
   "source": [
    "def Error(Y33, y_train):\n",
    "    F = np.count_nonzero(Y33 - y_train.T)\n",
    "    return F"
   ]
  },
  {
   "cell_type": "code",
   "execution_count": 12,
   "metadata": {},
   "outputs": [],
   "source": [
    "# n-f-2, considered as \"Consider\"\n",
    "def Check_KRUM(WXXttc,Consider,m):\n",
    "    m = m\n",
    "    F = Consider\n",
    "    WXXttc = WXXttc\n",
    "#     k = Avg\n",
    "    \n",
    "    Vi_Vj = np.zeros((k,1))\n",
    "    Score = np.zeros((k,1))\n",
    "    ress = []\n",
    "    for i in range(k): \n",
    "        for j in range(k):\n",
    "            Vi_Vj[j]  = np.linalg.norm(WXXttc[i] - WXXttc[j])**2\n",
    "        # Since Vi-Vi = 0, we consider k+1 minimum(k>0 minimum)\n",
    "        if F < k:\n",
    "            res = sorted(range(len(Vi_Vj)), key = lambda sub: Vi_Vj[sub])[:F-2] \n",
    "        elif F == k:\n",
    "            res = sorted(range(len(Vi_Vj)), key = lambda sub: Vi_Vj[sub])[:F-2] \n",
    "        Score[i] = np.sum(Vi_Vj[res])\n",
    "        ress.append(Score[i])\n",
    "    Min_Score = sorted(range(len(Score)), key = lambda sub: Score[sub])[:F] \n",
    "    Temp = 0\n",
    "    for i in range(m):\n",
    "        Temp = Temp + WXXttc[Min_Score[i]]\n",
    "    return Temp, Min_Score[:m], ress "
   ]
  },
  {
   "cell_type": "code",
   "execution_count": 13,
   "metadata": {},
   "outputs": [],
   "source": [
    "# def log_liklihood(B, y_train):\n",
    "#     T = 0\n",
    "#     for i in range(np.size(y_train)):\n",
    "#         T = -(y_train[i] * np.log(B[0,i]) + (1-y_train[i]) * np.log(1-B[0,i])) + T\n",
    "#     return T/np.size(y_train)        "
   ]
  },
  {
   "cell_type": "code",
   "execution_count": 14,
   "metadata": {},
   "outputs": [],
   "source": [
    "def log_liklihood(B,y):\n",
    "    Tempy = np.ones(np.size(y[:,0]) * np.size(y[0,:])).reshape(np.size(y[:,0]), np.size(y[0,:]))\n",
    "    y_prime = Tempy - y\n",
    "    TempB = np.ones(np.size(B[:,0]) * np.size(B[0,:])).reshape(np.size(B[:,0]), np.size(B[0,:]))\n",
    "    B_prime = (TempB - B).T\n",
    "    T = -1 * np.sum(np.multiply(y, np.log(B).T) + np.multiply(y_prime, np.log(B_prime)))\n",
    "    return T/np.size(y[:,0])"
   ]
  },
  {
   "cell_type": "code",
   "execution_count": 25,
   "metadata": {},
   "outputs": [],
   "source": [
    "Wfds = Structt([10,10,1], X_train)"
   ]
  },
  {
   "cell_type": "code",
   "execution_count": 26,
   "metadata": {},
   "outputs": [],
   "source": [
    "mu = 0\n",
    "sigma = 200\n",
    "\n",
    "a,b = WW[2].shape\n",
    "c,d = WW[1].shape\n",
    "e,f = WW[0].shape\n",
    "\n",
    "G2_B = np.random.normal(mu, sigma, a*b).reshape(b,a)\n",
    "G1_B = np.random.normal(mu, sigma, c*d).reshape(d,c)\n",
    "G0_B = np.random.normal(mu, sigma, e*f).reshape(f,e)"
   ]
  },
  {
   "cell_type": "code",
   "execution_count": 147,
   "metadata": {},
   "outputs": [],
   "source": [
    "def parameters(Krum):\n",
    "    \n",
    "    temps = np.zeros((100000,1))\n",
    "    Krum = Krum\n",
    "    \n",
    "    #Not bad\n",
    "    η1 = .0001\n",
    "    η2 = .0001  \n",
    "    η3 = .0001\n",
    "    MB = 3\n",
    "    Avg = 50\n",
    "    \n",
    "    return MB, Avg, η1, η2, η3, temps"
   ]
  },
  {
   "cell_type": "code",
   "execution_count": 148,
   "metadata": {},
   "outputs": [],
   "source": [
    "Data = []\n",
    "def Split(X,Y,n):\n",
    "    m_w = np.size(y_train[:,0]) // n\n",
    "    O = []\n",
    "    I = []\n",
    "    for i in range(n):\n",
    "        I.append(X[i*m_w:i*m_w+m_w,:])\n",
    "        O.append(Y[i*m_w:i*m_w+m_w])\n",
    "    return I, O"
   ]
  },
  {
   "cell_type": "code",
   "execution_count": 164,
   "metadata": {},
   "outputs": [],
   "source": [
    "def t(Kfast, Avg):\n",
    "#     T = np.random.exponential(scale=100, size=(Avg, 1))\n",
    "    T = np.random.rand(Avg,1) * Kfast\n",
    "    Time_Index  = sorted(range(len(T)), key = lambda kk: T[kk])\n",
    "    T = np.sort(T,axis=0)\n",
    "    Temp = Time_Index[0:Kfast]\n",
    "    return T[Time_Index[Kfast]], Temp\n"
   ]
  },
  {
   "cell_type": "code",
   "execution_count": 150,
   "metadata": {},
   "outputs": [],
   "source": [
    "I, O = Split(X_train, y_train, Avg)"
   ]
  },
  {
   "cell_type": "code",
   "execution_count": 151,
   "metadata": {},
   "outputs": [],
   "source": [
    "WW = list(Wfds)"
   ]
  },
  {
   "cell_type": "code",
   "execution_count": 152,
   "metadata": {},
   "outputs": [],
   "source": [
    "MB, Avg, η1, η2, η3, err_Itr_Krum40 = parameters(1)\n",
    "Kfast = 40\n",
    "jing = 10\n",
    "MaxItr = 200\n",
    "Learn = .9\n",
    "darsad = 1"
   ]
  },
  {
   "cell_type": "code",
   "execution_count": 153,
   "metadata": {},
   "outputs": [],
   "source": [
    "j = 0\n",
    "Temp = 1\n",
    "STOP = 0\n",
    "Misclass = []\n",
    "Itr = 0\n",
    "\n",
    "Itr_d = 0\n",
    "\n",
    "test = []\n",
    "TTime40 = 0\n",
    "Time40 = []\n",
    "\n",
    "while STOP < 1:\n",
    "    while Itr <= MaxItr:\n",
    "\n",
    "        GRAD3a = 0\n",
    "        GRAD2a = 0\n",
    "        GRAD1a = 0\n",
    "#         print(\"Where are we?!\", Itr)\n",
    "\n",
    "        if Itr % darsad == 0:\n",
    "            η1 = η1 * Learn\n",
    "            η2 = η2 * Learn\n",
    "            η3 = η3 * Learn\n",
    "        \n",
    "        Grad0_Krum = []\n",
    "        Grad1_Krum = []\n",
    "        Grad2_Krum = []     \n",
    "                \n",
    "        #Kfast\n",
    "        T, Temp = t(Kfast, Avg)\n",
    "        TTime40 = T + TTime40\n",
    "        Time40.append(TTime40) \n",
    "        \n",
    "        # In each round\n",
    "        byz_set = [0,1]\n",
    "#         for i in range(Avg): \n",
    "        for i in Temp:\n",
    "            if i in byz_set:\n",
    "                Grad2_Krum.append(G2_B)\n",
    "                Grad1_Krum.append(G1_B)\n",
    "                Grad0_Krum.append(G0_B)\n",
    "            else:\n",
    "                AA = I[i]\n",
    "                BB = O[i]\n",
    "                a, b = I[i].shape\n",
    "                if MB*Itr_d > a:\n",
    "                    Itr_d = 0\n",
    "\n",
    "                Input_data = AA[MB*Itr_d:MB + MB*Itr_d,:]\n",
    "                Actual_output = BB[MB*Itr_d:MB + MB*Itr_d]\n",
    "                V, Y = FP(WW, Input_data)\n",
    "                G = BP(WW, V, Y, Actual_output, Input_data)\n",
    "                Grad2_Krum.append(G[2])\n",
    "                Grad1_Krum.append(G[1])\n",
    "                Grad0_Krum.append(G[0])\n",
    "\n",
    "        #Krum   \n",
    "        Consider = np.size(Temp) - 2\n",
    "        m = np.size(Temp) - 2\n",
    "        Krum = m \n",
    "        k = np.size(Temp)\n",
    "        GRAD2a, a, b = Check_KRUM(Grad2_Krum, Consider, m)\n",
    "        GRAD1a, a, b = Check_KRUM(Grad1_Krum, Consider, m)\n",
    "        GRAD0a, a, b = Check_KRUM(Grad0_Krum, Consider, m)\n",
    "        \n",
    "        \n",
    "        #Error\n",
    "        A,B = FP(WW, X_test)\n",
    "        B = Output(B[np.size(WW) - 1])\n",
    "#         err_Itr1[(Itr)] = Error(B, y_train)/np.size(y_train)\n",
    "        err_Itr_Krum40[(Itr)] = log_liklihood(B, y_test)\n",
    "#         print(err_Itr_Krum40[(Itr)])\n",
    "        \n",
    "        G2 = GRAD2a.T/Krum\n",
    "        G1 = GRAD1a.T/Krum\n",
    "        G0 = GRAD0a.T/Krum\n",
    "        \n",
    "        G2 = GRAD2a.T\n",
    "        G1 = GRAD1a.T\n",
    "        G0 = GRAD0a.T\n",
    "\n",
    "        WW[2] = WW[2] + η3 * G2\n",
    "        WW[1] = WW[1] + η2 * G1\n",
    "        WW[0] = WW[0] + η1 * G0\n",
    "  \n",
    "        Itr_d += 1\n",
    "        Itr += 1\n",
    "        \n",
    "    STOP += 1"
   ]
  },
  {
   "cell_type": "code",
   "execution_count": 154,
   "metadata": {},
   "outputs": [],
   "source": [
    "F40 = np.floor(Time40)\n",
    "Err40 = err_Itr_Krum40\n",
    "k = 0\n",
    "E40 = []\n",
    "for i in range(np.size(F40) - 1):\n",
    "    if i==0:\n",
    "        E40.append(Err40[k])\n",
    "        for j in range(1,int(F40[i])):\n",
    "            E40.append(Err40[k])\n",
    "    else:\n",
    "        for j in range(int(F40[i]), int(F40[i+1])):\n",
    "            E40.append(Err40[k])\n",
    "    k += 1"
   ]
  },
  {
   "cell_type": "code",
   "execution_count": 155,
   "metadata": {},
   "outputs": [
    {
     "data": {
      "text/plain": [
       "[<matplotlib.lines.Line2D at 0x190efaeb7b8>]"
      ]
     },
     "execution_count": 155,
     "metadata": {},
     "output_type": "execute_result"
    },
    {
     "data": {
      "image/png": "[encoded data removed]",
      "text/plain": [
       "<Figure size 432x288 with 1 Axes>"
      ]
     },
     "metadata": {
      "needs_background": "light"
     },
     "output_type": "display_data"
    }
   ],
   "source": [
    "plt.plot(E40,'b')"
   ]
  },
  {
   "cell_type": "code",
   "execution_count": 156,
   "metadata": {},
   "outputs": [],
   "source": [
    "WW = list(Wfds)"
   ]
  },
  {
   "cell_type": "code",
   "execution_count": 157,
   "metadata": {},
   "outputs": [],
   "source": [
    "MB,Avg, η1, η2, η3, err_Itr_Krum10 = parameters(1)\n",
    "Kfast = 20"
   ]
  },
  {
   "cell_type": "code",
   "execution_count": 158,
   "metadata": {},
   "outputs": [],
   "source": [
    "j = 0\n",
    "Temp = 1\n",
    "STOP = 0\n",
    "Misclass = []\n",
    "Itr = 0\n",
    "\n",
    "Itr_d = 0\n",
    "\n",
    "test = []\n",
    "TTime10 = 0\n",
    "Time10 = []\n",
    "\n",
    "while STOP < 1:\n",
    "    while Itr <= MaxItr:\n",
    "        \n",
    "        GRAD3a = 0\n",
    "        GRAD2a = 0\n",
    "        GRAD1a = 0\n",
    "#         print(\"Where are we?!\", Itr)\n",
    "        if Itr % darsad == 0:\n",
    "            η1 = η1 * Learn\n",
    "            η2 = η2 * Learn\n",
    "            η3 = η3 * Learn\n",
    "        \n",
    "        Grad0_Krum = []\n",
    "        Grad1_Krum = []\n",
    "        Grad2_Krum = []     \n",
    "\n",
    "        \n",
    "        #Kfast\n",
    "        T, Temp = t(Kfast, Avg)\n",
    "        TTime10 = T + TTime10\n",
    "        Time10.append(TTime10) \n",
    "#         print(Time10)\n",
    "        \n",
    "        # In each round\n",
    "        byz_set = [0,1]\n",
    "#         for i in range(Avg): \n",
    "        for i in Temp:\n",
    "            if i in byz_set:\n",
    "                Grad2_Krum.append(G2_B)\n",
    "                Grad1_Krum.append(G1_B)\n",
    "                Grad0_Krum.append(G0_B)\n",
    "            else:\n",
    "                AA = I[i]\n",
    "                BB = O[i]\n",
    "                a, b = I[i].shape\n",
    "                if MB*Itr_d > a:\n",
    "                    Itr_d = 0                \n",
    "                Input_data = AA[MB*Itr_d:MB + MB*Itr_d,:]\n",
    "                Actual_output = BB[MB*Itr_d:MB + MB*Itr_d]\n",
    "                V, Y = FP(WW, Input_data)\n",
    "                G = BP(WW, V, Y, Actual_output, Input_data)\n",
    "                Grad2_Krum.append(G[2])\n",
    "                Grad1_Krum.append(G[1])\n",
    "                Grad0_Krum.append(G[0])\n",
    "\n",
    "        #Krum   \n",
    "        Consider = np.size(Temp) - 2\n",
    "        m = np.size(Temp) - 2\n",
    "        Krum = m \n",
    "        k = np.size(Temp)\n",
    "        GRAD2a, a, b = Check_KRUM(Grad2_Krum, Consider, m)\n",
    "        GRAD1a, a, b = Check_KRUM(Grad1_Krum, Consider, m)\n",
    "        GRAD0a, a, b = Check_KRUM(Grad0_Krum, Consider, m)\n",
    "        \n",
    "        \n",
    "        #Error\n",
    "        A,B = FP(WW, X_test)\n",
    "        B = Output(B[np.size(WW) - 1])\n",
    "#         err_Itr1[(Itr)] = Error(B, y_train)/np.size(y_train)\n",
    "        err_Itr_Krum10[(Itr)] = log_liklihood(B, y_test)\n",
    "#         print(err_Itr_Krum10[(Itr)])\n",
    "        \n",
    "        G2 = GRAD2a.T/Krum\n",
    "        G1 = GRAD1a.T/Krum\n",
    "        G0 = GRAD0a.T/Krum\n",
    "        \n",
    "        G2 = GRAD2a.T\n",
    "        G1 = GRAD1a.T\n",
    "        G0 = GRAD0a.T\n",
    "\n",
    "        WW[2] = WW[2] + η3 * G2\n",
    "        WW[1] = WW[1] + η2 * G1\n",
    "        WW[0] = WW[0] + η1 * G0\n",
    "  \n",
    "        Itr_d += 1\n",
    "        Itr += 1\n",
    "        \n",
    "    STOP += 1"
   ]
  },
  {
   "cell_type": "code",
   "execution_count": 159,
   "metadata": {},
   "outputs": [],
   "source": [
    "F10 = np.floor(Time10)\n",
    "Err10 = err_Itr_Krum10\n",
    "k = 0\n",
    "E10 = []\n",
    "for i in range(np.size(F10) - 1):\n",
    "    if i==0:\n",
    "        E10.append(Err10[k])\n",
    "        for j in range(1,int(F10[i])):\n",
    "            E10.append(Err10[k])\n",
    "    else:\n",
    "        for j in range(int(F10[i]), int(F10[i+1])):\n",
    "            E10.append(Err10[k])\n",
    "\n",
    "    k += 1"
   ]
  },
  {
   "cell_type": "code",
   "execution_count": 160,
   "metadata": {},
   "outputs": [
    {
     "data": {
      "text/plain": [
       "[<matplotlib.lines.Line2D at 0x190efa2fe80>]"
      ]
     },
     "execution_count": 160,
     "metadata": {},
     "output_type": "execute_result"
    },
    {
     "data": {
      "image/png": "[encoded data removed]",
      "text/plain": [
       "<Figure size 432x288 with 1 Axes>"
      ]
     },
     "metadata": {
      "needs_background": "light"
     },
     "output_type": "display_data"
    }
   ],
   "source": [
    "plt.plot(E10,'r')"
   ]
  },
  {
   "cell_type": "code",
   "execution_count": 161,
   "metadata": {},
   "outputs": [
    {
     "name": "stdout",
     "output_type": "stream",
     "text": [
      "2019.4299739683 4048.15958892463\n"
     ]
    }
   ],
   "source": [
    "print(np.max(Time10), np.max(Time40))"
   ]
  },
  {
   "cell_type": "code",
   "execution_count": 162,
   "metadata": {},
   "outputs": [
    {
     "data": {
      "text/plain": [
       "[<matplotlib.lines.Line2D at 0x190f86a65c0>]"
      ]
     },
     "execution_count": 162,
     "metadata": {},
     "output_type": "execute_result"
    },
    {
     "data": {
      "image/png": "[encoded data removed]",
      "text/plain": [
       "<Figure size 432x288 with 1 Axes>"
      ]
     },
     "metadata": {
      "needs_background": "light"
     },
     "output_type": "display_data"
    }
   ],
   "source": [
    "plt.plot(E10[0:1000],'r')\n",
    "plt.plot(E40[0:1000],'b')"
   ]
  },
  {
   "cell_type": "code",
   "execution_count": 163,
   "metadata": {},
   "outputs": [
    {
     "data": {
      "text/plain": [
       "[<matplotlib.lines.Line2D at 0x190f0e96278>]"
      ]
     },
     "execution_count": 163,
     "metadata": {},
     "output_type": "execute_result"
    },
    {
     "data": {
      "image/png": "[encoded data removed]",
      "text/plain": [
       "<Figure size 432x288 with 1 Axes>"
      ]
     },
     "metadata": {
      "needs_background": "light"
     },
     "output_type": "display_data"
    }
   ],
   "source": [
    "plt.plot(E10,'r')\n",
    "plt.plot(E40,'b')"
   ]
  },
  {
   "cell_type": "code",
   "execution_count": null,
   "metadata": {},
   "outputs": [],
   "source": [
    "plt.plot(Err10[80:np.count_nonzero(Err40)],'r')\n",
    "plt.plot(Err40[80:np.count_nonzero(Err40)],'b')"
   ]
  },
  {
   "cell_type": "code",
   "execution_count": null,
   "metadata": {},
   "outputs": [],
   "source": [
    "WW = list(Wfds)"
   ]
  },
  {
   "cell_type": "code",
   "execution_count": null,
   "metadata": {},
   "outputs": [],
   "source": [
    "MB, Krum, Avg, η1, η2, η3, err_Itr_Krum20 = parameters(1,50)\n",
    "Kfast = 20"
   ]
  },
  {
   "cell_type": "code",
   "execution_count": null,
   "metadata": {},
   "outputs": [],
   "source": [
    "\n",
    "\n",
    "\n",
    "j = 0\n",
    "Temp = 1\n",
    "STOP = 0\n",
    "Misclass = []\n",
    "Itr = 0\n",
    "\n",
    "Itr_d = 0\n",
    "\n",
    "test = []\n",
    "TTime20 = 0\n",
    "Time20 = []\n",
    "\n",
    "while STOP < 1:\n",
    "    while Itr <= MaxItr*2:\n",
    "        \n",
    "        GRAD3a = 0\n",
    "        GRAD2a = 0\n",
    "        GRAD1a = 0\n",
    "#         print(\"Where are we?!\", Itr)\n",
    "        if Itr % darsad == 0:\n",
    "            η1 = η1 * Learn\n",
    "            η2 = η2 * Learn\n",
    "            η3 = η3 * Learn\n",
    "        \n",
    "        Grad0_Krum = []\n",
    "        Grad1_Krum = []\n",
    "        Grad2_Krum = []     \n",
    "                \n",
    "        if MB*Avg*Itr_d + MB*Avg > np.size(X_train[:,0]):\n",
    "            Itr_d = 0\n",
    "        \n",
    "        #Kfast\n",
    "        T = np.random.rand(Avg) * jing\n",
    "        Time_Index  = sorted(range(len(T)), key = lambda kk: T[kk])\n",
    "        Temp = Time_Index[0:Kfast]\n",
    "        TTime20 = T[Time_Index[Kfast]] + TTime10\n",
    "        Time20.append(TTime20)\n",
    "#         print(Time10)\n",
    "        \n",
    "        # In each round\n",
    "        byz_set = [0,1]\n",
    "#         for i in range(Avg): \n",
    "        for i in Temp:\n",
    "            if i in byz_set:\n",
    "                Grad2_Krum.append(G2_B)\n",
    "                Grad1_Krum.append(G1_B)\n",
    "                Grad0_Krum.append(G0_B)\n",
    "            else:\n",
    "                Input_data = X_train[i*MB + MB*Avg*Itr_d:i*MB + MB + MB*Avg*Itr_d,:]\n",
    "                Actual_output = y_train[i*MB + MB*Avg*Itr_d:i*MB + MB + MB*Avg*Itr_d]\n",
    "                V, Y = FP(WW, Input_data)\n",
    "                G = BP(WW, V, Y, Actual_output, Input_data)\n",
    "                Grad2_Krum.append(G[2])\n",
    "                Grad1_Krum.append(G[1])\n",
    "                Grad0_Krum.append(G[0])\n",
    "\n",
    "        #Krum   \n",
    "        Consider = np.size(Temp) - 2\n",
    "        m = np.size(Temp)//2\n",
    "        Krum = m \n",
    "        k = np.size(Temp)\n",
    "        GRAD2a, a, b = Check_KRUM(Grad2_Krum, Consider, m)\n",
    "        GRAD1a, a, b = Check_KRUM(Grad1_Krum, Consider, m)\n",
    "        GRAD0a, a, b = Check_KRUM(Grad0_Krum, Consider, m)\n",
    "        \n",
    "        \n",
    "        #Error\n",
    "        A,B = FP(WW, X_test)\n",
    "        B = Output(B[np.size(WW) - 1])\n",
    "#         err_Itr1[(Itr)] = Error(B, y_train)/np.size(y_train)\n",
    "        err_Itr_Krum20[(Itr)] = log_liklihood(B, y_test)\n",
    "#         print(err_Itr_Krum10[(Itr)])\n",
    "        \n",
    "        G2 = GRAD2a.T/Krum\n",
    "        G1 = GRAD1a.T/Krum\n",
    "        G0 = GRAD0a.T/Krum\n",
    "        \n",
    "        G2 = GRAD2a.T\n",
    "        G1 = GRAD1a.T\n",
    "        G0 = GRAD0a.T\n",
    "\n",
    "        WW[2] = WW[2] + η3 * G2\n",
    "        WW[1] = WW[1] + η2 * G1\n",
    "        WW[0] = WW[0] + η1 * G0\n",
    "  \n",
    "        Itr_d += 1\n",
    "        Itr += 1\n",
    "        \n",
    "    STOP += 1"
   ]
  },
  {
   "cell_type": "code",
   "execution_count": null,
   "metadata": {},
   "outputs": [],
   "source": [
    "F20 = np.floor(Time20)\n",
    "Err20 = err_Itr_Krum20\n",
    "k = 0\n",
    "E20 = []\n",
    "for i in range(np.size(F20) - 1):\n",
    "    if i==0:\n",
    "        E10.append(Err20[k])\n",
    "        for j in range(1,int(F20[i])):\n",
    "            E20.append(Err20[k])\n",
    "    else:\n",
    "        for j in range(int(F20[i]), int(F20[i+1])):\n",
    "            E20.append(Err20[k])\n",
    "\n",
    "    k += 1"
   ]
  },
  {
   "cell_type": "code",
   "execution_count": null,
   "metadata": {},
   "outputs": [],
   "source": [
    "plt.plot(E10[0:10000],'r')\n",
    "plt.plot(E20[0:10000],'c')\n",
    "plt.plot(E40[0:10000],'b')"
   ]
  },
  {
   "cell_type": "code",
   "execution_count": null,
   "metadata": {},
   "outputs": [],
   "source": [
    "plt.plot(Err10[80:np.count_nonzero(Err40)],'r')\n",
    "plt.plot(Err20[80:np.count_nonzero(Err40)],'c')\n",
    "plt.plot(Err40[80:np.count_nonzero(Err40)],'b')"
   ]
  }
 ],
 "metadata": {
  "kernelspec": {
   "display_name": "Python 3",
   "language": "python",
   "name": "python3"
  },
  "language_info": {
   "codemirror_mode": {
    "name": "ipython",
    "version": 3
   },
   "file_extension": ".py",
   "mimetype": "text/x-python",
   "name": "python",
   "nbconvert_exporter": "python",
   "pygments_lexer": "ipython3",
   "version": "3.6.13"
  }
 },
 "nbformat": 4,
 "nbformat_minor": 4
}
